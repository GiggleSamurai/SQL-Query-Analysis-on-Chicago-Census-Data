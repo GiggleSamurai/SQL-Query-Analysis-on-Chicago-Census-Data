{
 "cells": [
  {
   "cell_type": "markdown",
   "id": "fef83dd1",
   "metadata": {},
   "source": [
    "# CHICAGO CENSUS DATA  ANALYST\n",
    "## Using SQL & Python (Jupyter Notebook)"
   ]
  },
  {
   "cell_type": "markdown",
   "id": "030fa54b",
   "metadata": {},
   "source": [
    "### Establish A Sequel Connection"
   ]
  },
  {
   "cell_type": "code",
   "execution_count": 1,
   "id": "d28fced8",
   "metadata": {},
   "outputs": [
    {
     "name": "stdout",
     "output_type": "stream",
     "text": [
      "Connected to database:  BLUDB as user:  wyt93087 on host:  54a2f15b-5c0f-46df-8954-7e38e612c2bd.c1ogj3sd0tgtu0lqde00.databases.appdomain.cloud\n"
     ]
    }
   ],
   "source": [
    "import ibm_db\n",
    "#Replace the placeholder values with your actual Db2 hostname, username, and password:\n",
    "dsn_hostname = \"54a2f15b-5c0f-46df-8954-7e38e612c2bd.c1ogj3sd0tgtu0lqde00.databases.appdomain.cloud\" # e.g.: \"54a2f15b-5c0f-46df-8954-7e38e612c2bd.c1ogj3sd0tgtu0lqde00.databases.appdomain.cloud\"\n",
    "dsn_uid = \"wyt93087\"        # e.g. \"abc12345\"\n",
    "dsn_pwd = \"9YI2h2kUOoqoIstu\"      # e.g. \"7dBZ3wWt9XN6$o0J\"\n",
    "\n",
    "dsn_driver = \"{IBM DB2 ODBC DRIVER}\"\n",
    "dsn_database = \"BLUDB\"            # e.g. \"BLUDB\"\n",
    "dsn_port = \"32733\"                # e.g. \"32733\" \n",
    "dsn_protocol = \"TCPIP\"            # i.e. \"TCPIP\"\n",
    "dsn_security = \"SSL\"              #i.e. \"SSL\"\n",
    "#DO NOT MODIFY THIS CELL. Just RUN it with Shift + Enter\n",
    "#Create the dsn connection string\n",
    "dsn = (\n",
    "    \"DRIVER={0};\"\n",
    "    \"DATABASE={1};\"\n",
    "    \"HOSTNAME={2};\"\n",
    "    \"PORT={3};\"\n",
    "    \"PROTOCOL={4};\"\n",
    "    \"UID={5};\"\n",
    "    \"PWD={6};\"\n",
    "    \"SECURITY={7};\").format(dsn_driver, dsn_database, dsn_hostname, dsn_port, dsn_protocol, dsn_uid, dsn_pwd,dsn_security)\n",
    "#DO NOT MODIFY THIS CELL. Just RUN it with Shift + Enter\n",
    "#Create database connection\n",
    "\n",
    "try:\n",
    "    conn = ibm_db.connect(dsn, \"\", \"\")\n",
    "    print (\"Connected to database: \", dsn_database, \"as user: \", dsn_uid, \"on host: \", dsn_hostname)\n",
    "\n",
    "except:\n",
    "    print (\"Unable to connect: \", ibm_db.conn_errormsg() )"
   ]
  },
  {
   "cell_type": "code",
   "execution_count": 2,
   "id": "20880113",
   "metadata": {
    "scrolled": true
   },
   "outputs": [
    {
     "name": "stdout",
     "output_type": "stream",
     "text": [
      "                   NAME\n",
      "0                TRUCKS\n",
      "1  CHICAGOPUBLICSCHOOLS\n",
      "2      CHICAGOCRIMEDATA\n",
      "3     CHICAGOCENSUSDATA\n"
     ]
    }
   ],
   "source": [
    "import ibm_db_dbi\n",
    "import pandas as pd\n",
    "sql = \"SELECT NAME FROM sysibm.systables WHERE creator='WYT93087'\"\n",
    "pconn = ibm_db_dbi.Connection(conn)\n",
    "df = pd.read_sql(sql, pconn)\n",
    "print(df)"
   ]
  },
  {
   "cell_type": "markdown",
   "id": "4f02a48f",
   "metadata": {},
   "source": [
    "### The total number of crimes recorded in the CRIME table."
   ]
  },
  {
   "cell_type": "code",
   "execution_count": 3,
   "id": "bec0e82a",
   "metadata": {},
   "outputs": [
    {
     "data": {
      "text/plain": [
       "'The total number of crimes recorded in the CRIME table is 533.'"
      ]
     },
     "execution_count": 3,
     "metadata": {},
     "output_type": "execute_result"
    }
   ],
   "source": [
    "sql = \"SELECT COUNT(*) FROM CHICAGOCRIMEDATA\"\n",
    "df = pd.read_sql(sql, pconn)\n",
    "\n",
    "\"The total number of crimes recorded in the CRIME table is \"+ str(int(df.iloc[0]))+\".\""
   ]
  },
  {
   "cell_type": "markdown",
   "id": "2ef19089",
   "metadata": {},
   "source": [
    "### The List community areas with per capita income less than 11000."
   ]
  },
  {
   "cell_type": "code",
   "execution_count": 4,
   "id": "2edcc2f9",
   "metadata": {},
   "outputs": [
    {
     "name": "stdout",
     "output_type": "stream",
     "text": [
      "  COMMUNITY_AREA_NAME  PER_CAPITA_INCOME\n",
      "0         Fuller Park              10432\n",
      "1           Riverdale               8201\n",
      "2      South Lawndale              10402\n",
      "3  West Garfield Park              10934\n"
     ]
    },
    {
     "data": {
      "text/plain": [
       "'List community areas with per capita income less than 11000 are Fuller Park, Riverdale, South Lawndale, West Garfield Park.'"
      ]
     },
     "execution_count": 4,
     "metadata": {},
     "output_type": "execute_result"
    }
   ],
   "source": [
    "sql = \"SELECT DISTINCT(COMMUNITY_AREA_NAME),PER_CAPITA_INCOME FROM CHICAGOCENSUSDATA WHERE PER_CAPITA_INCOME < 11000 \"\n",
    "df = pd.read_sql(sql, pconn)\n",
    "print(df)\n",
    "dflist = df['COMMUNITY_AREA_NAME'].tolist()\n",
    "\"List community areas with per capita income less than 11000 are \"+', '.join(dflist)+'.'\n"
   ]
  },
  {
   "cell_type": "markdown",
   "id": "7dfbd0eb",
   "metadata": {},
   "source": [
    "### The List all case numbers for crimes involving minors."
   ]
  },
  {
   "cell_type": "code",
   "execution_count": 5,
   "id": "010e9dd6",
   "metadata": {},
   "outputs": [
    {
     "name": "stdout",
     "output_type": "stream",
     "text": [
      "        ID     PRIMARY_TYPE                     DESCRIPTION\n",
      "0  5766654  OFFENSE INVOLVI  AGG SEX ASSLT OF CHILD FAM MBR\n",
      "1  6986273  OFFENSE INVOLVI   SEX ASSLT OF CHILD BY FAM MBR\n",
      "2  5276766       KIDNAPPING        CHILD ABDUCTION/STRANGER\n"
     ]
    },
    {
     "data": {
      "text/plain": [
       "'All case numbers for crimes involving minors are: ID-5766654, ID-6986273 and ID-5276766.'"
      ]
     },
     "execution_count": 5,
     "metadata": {},
     "output_type": "execute_result"
    }
   ],
   "source": [
    "sql = \"SELECT ID,PRIMARY_TYPE,DESCRIPTION FROM CHICAGOCRIMEDATA WHERE DESCRIPTION LIKE '%CHILD%' OR PRIMARY_TYPE LIKE '%CHILD%' \"\n",
    "df = pd.read_sql(sql, pconn)\n",
    "print(df)\n",
    "\"All case numbers for crimes involving minors are: \"+\"ID-\"+str(df['ID'][0])+\", \"+\"ID-\"+str(df['ID'][1])+\" and \"+\"ID-\"+str(df['ID'][2])+\".\""
   ]
  },
  {
   "cell_type": "markdown",
   "id": "e1ba001c",
   "metadata": {},
   "source": [
    "### The List all kidnapping crimes involving a child?"
   ]
  },
  {
   "cell_type": "code",
   "execution_count": 6,
   "id": "7a42244e",
   "metadata": {},
   "outputs": [
    {
     "name": "stdout",
     "output_type": "stream",
     "text": [
      "        ID CASE_NUMBER        DATE                 BLOCK  IUCR PRIMARY_TYPE  \\\n",
      "0  5276766    HN144152  2007-01-26  050XX W VAN BUREN ST  1792   KIDNAPPING   \n",
      "\n",
      "                DESCRIPTION LOCATION_DESCRIPTION ARREST DOMESTIC  ...  \\\n",
      "0  CHILD ABDUCTION/STRANGER               STREET  FALSE    FALSE  ...   \n",
      "\n",
      "   DISTRICT  WARD  COMMUNITY_AREA_NUMBER  FBICODE X_COORDINATE  Y_COORDINATE  \\\n",
      "0        15    29                     25       20      1143050       1897546   \n",
      "\n",
      "   YEAR   LATITUDE  LONGITUDE                       LOCATION  \n",
      "0  2007  41.874908 -87.750249  (41.874908413, -87.750249307)  \n",
      "\n",
      "[1 rows x 21 columns]\n"
     ]
    },
    {
     "data": {
      "text/plain": [
       "'There is 1 kidnapping crimes involving a child as listed on top.'"
      ]
     },
     "execution_count": 6,
     "metadata": {},
     "output_type": "execute_result"
    }
   ],
   "source": [
    "sql = \"SELECT * FROM CHICAGOCRIMEDATA WHERE PRIMARY_TYPE = 'KIDNAPPING' AND DESCRIPTION LIKE '%CHILD%'\"\n",
    "df = pd.read_sql(sql, pconn)\n",
    "print(df)\n",
    "\"There is 1 kidnapping crimes involving a child as listed on top.\""
   ]
  },
  {
   "cell_type": "markdown",
   "id": "ea01af2a",
   "metadata": {},
   "source": [
    "### What kind of crimes were recorded at schools?"
   ]
  },
  {
   "cell_type": "code",
   "execution_count": 7,
   "id": "21f9b0c3",
   "metadata": {},
   "outputs": [
    {
     "name": "stdout",
     "output_type": "stream",
     "text": [
      "      PRIMARY_TYPE       LOCATION_DESCRIPTION\n",
      "0  PUBLIC PEACE VI  SCHOOL, PRIVATE, BUILDING\n",
      "1          BATTERY   SCHOOL, PUBLIC, BUILDING\n",
      "2        NARCOTICS   SCHOOL, PUBLIC, BUILDING\n",
      "3  PUBLIC PEACE VI   SCHOOL, PUBLIC, BUILDING\n",
      "4          ASSAULT    SCHOOL, PUBLIC, GROUNDS\n",
      "5          BATTERY    SCHOOL, PUBLIC, GROUNDS\n",
      "6  CRIMINAL DAMAGE    SCHOOL, PUBLIC, GROUNDS\n",
      "7  CRIMINAL TRESPA    SCHOOL, PUBLIC, GROUNDS\n",
      "8        NARCOTICS    SCHOOL, PUBLIC, GROUNDS\n",
      "['PUBLIC PEACE VI', 'BATTERY', 'NARCOTICS', 'PUBLIC PEACE VI', 'ASSAULT', 'BATTERY', 'CRIMINAL DAMAGE', 'CRIMINAL TRESPA', 'NARCOTICS']\n"
     ]
    },
    {
     "data": {
      "text/plain": [
       "'The kind of crimes were recorded at schools are public peace vi, battery, narcotics, public peace vi, assault, battery, criminal damage, criminal trespa, narcotics.'"
      ]
     },
     "execution_count": 7,
     "metadata": {},
     "output_type": "execute_result"
    }
   ],
   "source": [
    "sql = \"SELECT DISTINCT(PRIMARY_TYPE),LOCATION_DESCRIPTION FROM CHICAGOCRIMEDATA WHERE LOCATION_DESCRIPTION LIKE '%SCHOOL%'\"\n",
    "df = pd.read_sql(sql, pconn)\n",
    "print(df)\n",
    "dflist = df['PRIMARY_TYPE'].tolist()\n",
    "lowerlist = []\n",
    "print(dflist)\n",
    "for i in dflist:\n",
    "    lowerlist += [i.lower()]\n",
    "\"The kind of crimes were recorded at schools are \"+', '.join(lowerlist)+'.'"
   ]
  },
  {
   "cell_type": "markdown",
   "id": "3f70e955",
   "metadata": {},
   "source": [
    "### The List the average safety score for all types of schools."
   ]
  },
  {
   "cell_type": "code",
   "execution_count": 8,
   "id": "44f8b0b8",
   "metadata": {},
   "outputs": [
    {
     "name": "stdout",
     "output_type": "stream",
     "text": [
      "    1\n",
      "0  49\n"
     ]
    },
    {
     "data": {
      "text/plain": [
       "'The average safety score for schools in Chicago is 49.'"
      ]
     },
     "execution_count": 8,
     "metadata": {},
     "output_type": "execute_result"
    }
   ],
   "source": [
    "sql = \"SELECT AVG(SAFETY_SCORE) FROM CHICAGOPUBLICSCHOOLS\"\n",
    "df = pd.read_sql(sql, pconn)\n",
    "print(df)\n",
    "'The average safety score for schools in Chicago is '+ str(int(df.iloc[0]))+\".\""
   ]
  },
  {
   "cell_type": "markdown",
   "id": "7f13f1ae",
   "metadata": {},
   "source": [
    "### The List of 5 community areas with highest % of households below poverty line"
   ]
  },
  {
   "cell_type": "code",
   "execution_count": 9,
   "id": "4c1afbe4",
   "metadata": {},
   "outputs": [
    {
     "name": "stdout",
     "output_type": "stream",
     "text": [
      "  COMMUNITY_AREA_NAME  PERCENT_HOUSEHOLDS_BELOW_POVERTY\n",
      "0           Riverdale                              56.5\n",
      "1         Fuller Park                              51.2\n",
      "2           Englewood                              46.6\n",
      "3      North Lawndale                              43.1\n",
      "4  East Garfield Park                              42.4\n"
     ]
    },
    {
     "data": {
      "text/plain": [
       "'The 5 community areas with highest% of households below poverty line are: Riverdale, Fuller Park, Englewood, North Lawndale, East Garfield Park.'"
      ]
     },
     "execution_count": 9,
     "metadata": {},
     "output_type": "execute_result"
    }
   ],
   "source": [
    "sql = \"SELECT COMMUNITY_AREA_NAME, PERCENT_HOUSEHOLDS_BELOW_POVERTY FROM CHICAGOCENSUSDATA ORDER BY PERCENT_HOUSEHOLDS_BELOW_POVERTY DESC LIMIT 5\"\n",
    "df = pd.read_sql(sql, pconn)\n",
    "print(df)\n",
    "dflist = df['COMMUNITY_AREA_NAME'].tolist()\n",
    "'The 5 community areas with highest% of households below poverty line are: '+', '.join(dflist)+'.'"
   ]
  },
  {
   "cell_type": "markdown",
   "id": "77002b15",
   "metadata": {},
   "source": [
    "### Which community area is most crime prone?"
   ]
  },
  {
   "cell_type": "code",
   "execution_count": 10,
   "id": "4441bab4",
   "metadata": {},
   "outputs": [
    {
     "name": "stdout",
     "output_type": "stream",
     "text": [
      "   COMMUNITY_AREA_NUMBER  NUM_CASES\n",
      "0                     25         43\n",
      "1                     23         22\n",
      "2                     68         21\n",
      "3                     28         16\n",
      "4                     29         16\n",
      "  COMMUNITY_AREA_NAME  COMMUNITY_AREA_NUMBER\n",
      "0              Austin                     25\n"
     ]
    },
    {
     "data": {
      "text/plain": [
       "'The community area is most crime prone is Austin which area number is 25.'"
      ]
     },
     "execution_count": 10,
     "metadata": {},
     "output_type": "execute_result"
    }
   ],
   "source": [
    "#Method 1 Using Pandas Index & 2 SQL query:\n",
    "sql = \"SELECT COMMUNITY_AREA_NUMBER,COUNT(COMMUNITY_AREA_NUMBER) AS NUM_CASES FROM CHICAGOCRIMEDATA GROUP BY(COMMUNITY_AREA_NUMBER) ORDER BY NUM_CASES DESC LIMIT 5\"\n",
    "df = pd.read_sql(sql, pconn)\n",
    "print(df)\n",
    "crime_area_num =int(df['COMMUNITY_AREA_NUMBER'].iloc[0])\n",
    "sql = \"SELECT COMMUNITY_AREA_NAME,COMMUNITY_AREA_NUMBER FROM CHICAGOCENSUSDATA WHERE COMMUNITY_AREA_NUMBER = '%s'\" % crime_area_num\n",
    "df = pd.read_sql(sql, pconn)\n",
    "print(df)\n",
    "crime_area_num =str(int(df['COMMUNITY_AREA_NUMBER'].iloc[0]))\n",
    "crime_area_name =str(df['COMMUNITY_AREA_NAME'].iloc[0])\n",
    "'The community area is most crime prone is '+crime_area_name+' which area number is '+crime_area_num+'.'"
   ]
  },
  {
   "cell_type": "code",
   "execution_count": 11,
   "id": "3b67b4d5",
   "metadata": {},
   "outputs": [
    {
     "name": "stdout",
     "output_type": "stream",
     "text": [
      "   COMMUNITY_AREA_NUMBER COMMUNITY_AREA_NAME  NUM_CASES\n",
      "0                     25              Austin         43\n",
      "1                     23       Humboldt park         22\n",
      "2                     68           Englewood         21\n",
      "3                     28      Near West Side         16\n",
      "4                     29      North Lawndale         16\n"
     ]
    },
    {
     "data": {
      "text/plain": [
       "'The community area is most crime prone is Austin which area number is 25.'"
      ]
     },
     "execution_count": 11,
     "metadata": {},
     "output_type": "execute_result"
    }
   ],
   "source": [
    "#Method 2 Using Join SQL query in single query:\n",
    "sql = \"SELECT c.COMMUNITY_AREA_NUMBER,d.COMMUNITY_AREA_NAME,COUNT(c.COMMUNITY_AREA_NUMBER) AS NUM_CASES  FROM CHICAGOCRIMEDATA AS c JOIN CHICAGOCENSUSDATA AS d ON c.COMMUNITY_AREA_NUMBER = d.COMMUNITY_AREA_NUMBER GROUP BY c.COMMUNITY_AREA_NUMBER,d.COMMUNITY_AREA_NAME ORDER BY NUM_CASES DESC LIMIT 5\"\n",
    "#I got to say method 1 is alot easier.\n",
    "df = pd.read_sql(sql, pconn)\n",
    "print(df)\n",
    "crime_area_num =str(int(df['COMMUNITY_AREA_NUMBER'].iloc[0]))\n",
    "crime_area_name =str(df['COMMUNITY_AREA_NAME'].iloc[0])\n",
    "'The community area is most crime prone is '+crime_area_name+' which area number is '+crime_area_num+'.'"
   ]
  },
  {
   "cell_type": "markdown",
   "id": "044bbd67",
   "metadata": {},
   "source": [
    "### Using Sub-query to find the name of the community area with highest hardship index"
   ]
  },
  {
   "cell_type": "code",
   "execution_count": 12,
   "id": "eeed74b2",
   "metadata": {},
   "outputs": [
    {
     "name": "stdout",
     "output_type": "stream",
     "text": [
      "  COMMUNITY_AREA_NAME  HARDSHIP_INDEX\n",
      "0           Riverdale              98\n",
      "1         Fuller Park              97\n",
      "2      South Lawndale              96\n",
      "3           Englewood              94\n",
      "4           Gage Park              93\n"
     ]
    },
    {
     "data": {
      "text/plain": [
       "'The name of the community area with highest hardship index is Riverdale.'"
      ]
     },
     "execution_count": 12,
     "metadata": {},
     "output_type": "execute_result"
    }
   ],
   "source": [
    "sql = \"SELECT COMMUNITY_AREA_NAME,HARDSHIP_INDEX FROM (SELECT * FROM CHICAGOCENSUSDATA WHERE HARDSHIP_INDEX IS NOT NULL) ORDER BY HARDSHIP_INDEX DESC LIMIT 5\"\n",
    "#sub-query is very unnecessary to solve this problem..\n",
    "df = pd.read_sql(sql, pconn)\n",
    "print(df)\n",
    "name = df['COMMUNITY_AREA_NAME'].iloc[0]\n",
    "'The name of the community area with highest hardship index is '+name+'.'"
   ]
  },
  {
   "cell_type": "markdown",
   "id": "3701dee2",
   "metadata": {},
   "source": [
    "### Using a sub-query to determine the Community Area Name with most number of crimes?"
   ]
  },
  {
   "cell_type": "code",
   "execution_count": 13,
   "id": "f226dd52",
   "metadata": {},
   "outputs": [
    {
     "name": "stdout",
     "output_type": "stream",
     "text": [
      "  COMMUNITY_AREA_NAME\n",
      "0              Austin\n"
     ]
    },
    {
     "data": {
      "text/plain": [
       "'The community area is most crime prone is Austin.'"
      ]
     },
     "execution_count": 13,
     "metadata": {},
     "output_type": "execute_result"
    }
   ],
   "source": [
    "sql = \"SELECT COMMUNITY_AREA_NAME FROM CHICAGOCENSUSDATA WHERE COMMUNITY_AREA_NUMBER IN (SELECT COMMUNITY_AREA_NUMBER from CHICAGOCRIMEDATA  group by COMMUNITY_AREA_NUMBER order by COUNT(COMMUNITY_AREA_NUMBER) DESC LIMIT 1)\"\n",
    "df = pd.read_sql(sql, pconn)\n",
    "print(df)\n",
    "crime_area_name =str(df['COMMUNITY_AREA_NAME'].iloc[0])\n",
    "'The community area is most crime prone is '+crime_area_name+'.'"
   ]
  },
  {
   "cell_type": "markdown",
   "id": "eae125b8",
   "metadata": {},
   "source": [
    "### End Sequel Connection"
   ]
  },
  {
   "cell_type": "code",
   "execution_count": 14,
   "id": "c72f5cfd",
   "metadata": {},
   "outputs": [
    {
     "data": {
      "text/plain": [
       "True"
      ]
     },
     "execution_count": 14,
     "metadata": {},
     "output_type": "execute_result"
    }
   ],
   "source": [
    "ibm_db.close(conn)"
   ]
  }
 ],
 "metadata": {
  "kernelspec": {
   "display_name": "Python 3",
   "language": "python",
   "name": "python3"
  },
  "language_info": {
   "codemirror_mode": {
    "name": "ipython",
    "version": 3
   },
   "file_extension": ".py",
   "mimetype": "text/x-python",
   "name": "python",
   "nbconvert_exporter": "python",
   "pygments_lexer": "ipython3",
   "version": "3.8.5"
  }
 },
 "nbformat": 4,
 "nbformat_minor": 5
}
